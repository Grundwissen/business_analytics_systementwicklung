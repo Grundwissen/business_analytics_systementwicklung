{
 "cells": [
  {
   "cell_type": "code",
   "execution_count": 1,
   "metadata": {},
   "outputs": [
    {
     "name": "stderr",
     "output_type": "stream",
     "text": [
      "Loading required package: RPostgreSQL\n",
      "Loading required package: DBI\n",
      "Loading required package: ggplot2\n"
     ]
    },
    {
     "name": "stdout",
     "output_type": "stream",
     "text": [
      "[1] \"All tables exist\"\n"
     ]
    }
   ],
   "source": [
    "#R Exercise BA\n",
    "#Notwendige Pakete laden\n",
    "require(\"RPostgreSQL\")\n",
    "require(\"ggplot2\") \n",
    "\n",
    "#Datenbankverbindung einrichten\n",
    "drv <- dbDriver(\"PostgreSQL\")\n",
    "con <- dbConnect(drv, dbname = \"postgres\",\n",
    "                 host = \"localhost\", port = 5432,\n",
    "                 user = \"postgres\"\n",
    "\t\t\t\t )\n",
    "\t\t\t\t \n",
    "#Abfragen ob alle Tabellen existieren\n",
    "\t\t\t\t \n",
    "if (dbExistsTable(con, \"Student\") && dbExistsTable(con, \"Klausur\") && dbExistsTable(con, \"Notenliste\") == FALSE)\n",
    "{print(\"Necessary tables are missing please check the database \")}else {print(\"All tables exist\")}\n",
    "\n",
    "\n",
    "\n",
    "#1. Alle Noten eines bestimmten Studierenden:\n",
    "\n",
    "marks_of <- function(student) {\n",
    "data <- dbGetQuery(con, paste(\"SELECT \\\"Note\\\", \\\"pNr\\\" FROM \\\"Notenliste\\\" WHERE \\\"matNr\\\" =\", student)) #SQL-Statement mit übergebenem Parameter erzeugen und ausführen\n",
    "if (dim(data)[1] == 0){return( paste(\"No result for Student:\",student))} #Prüfen ob Daten vorhanden sind, falls nicht Warnung ausgeben \n",
    "else {return(data)} #Noten des Studierenden zurrück geben \n",
    "}\n",
    "\n",
    "\n",
    "#2. Notenschnitt eines Studierenden\n",
    "\n",
    "avg_marks_of <- function(student) {\n",
    "data <- dbGetQuery(con, paste(\"SELECT \\\"Note\\\" FROM \\\"Notenliste\\\" WHERE \\\"matNr\\\" =\", student)) #SQL-Statement mit übergebenem Parameter erzeugen und ausführen\n",
    "if (dim(data)[1] == 0){return( paste(\"No result for Student:\",student))} #Prüfen ob Daten vorhanden sind, falls nicht Warnung ausgeben\n",
    "else {return(mean(data$Note))} #Durchschnittsnote berechnen und zurrück geben \n",
    "}\n",
    "\n",
    "\n",
    "#3. Alle Noten einer Prüfung\n",
    "\n",
    "result_of <- function(exam) {\n",
    "data <- dbGetQuery(con, paste(\"SELECT \\\"Note\\\", \\\"matNr\\\" FROM \\\"Notenliste\\\" WHERE \\\"pNr\\\" =\", exam)) #SQL-Statement mit übergebenem Parameter erzeugen und ausführen\n",
    "if (dim(data)[1] == 0){return( paste(\"No result for Exam:\",exam))} #Prüfen ob Daten vorhanden sind, falls nicht Warnung ausgeben\n",
    "else {return(data)} #Noten der  Prüfung zurrück geben \n",
    "}\n",
    "\n",
    "\n",
    "#4. Notenschnitt einer Prüfung\n",
    "\n",
    "avg_result_of <- function(exam) {\n",
    "data <- dbGetQuery(con, paste(\"SELECT \\\"Note\\\" FROM \\\"Notenliste\\\" WHERE \\\"pNr\\\" =\", exam)) #SQL-Statement mit übergebenem Parameter erzeugen und ausführen\n",
    "if (dim(data)[1] == 0){return( paste(\"No result for Exam:\",exam))} #Prüfen ob Daten vorhanden sind, falls nicht Warnung ausgeben\n",
    "else {return(mean(data$Note))} #Notenschnitt der Prpfung berechnen und zurrück geben \n",
    "}\n",
    "\n",
    "\n",
    "#5. Notenschnitte aller Studierenden\n",
    "\n",
    "avg_marks_all <- function() {\n",
    "data <- dbGetQuery(con, paste(\"SELECT AVG(\\\"Note\\\"), \\\"matNr\\\" FROM \\\"Notenliste\\\" GROUP BY \\\"matNr\\\"\")) #SQL-Statement erzeugen und ausführen\n",
    "if (dim(data)[1] == 0){return( paste(\"There are no students in the database\"))} #Prüfen ob Daten vorhanden sind, falls nicht Warnung ausgeben\n",
    "else {return(data)} # Durchschnittsnoten der Studierenden zurrück geben \n",
    "}\n",
    "\n",
    "#6. Meadian der Notenschnitte\n",
    "\n",
    "med_marks_all <- function() {\n",
    "data <- dbGetQuery(con, paste(\"SELECT AVG(\\\"Note\\\"), \\\"matNr\\\" FROM \\\"Notenliste\\\" GROUP BY \\\"matNr\\\"\")) #SQL-Statement erzeugen und ausführen\n",
    "if (dim(data)[1] == 0){return( paste(\"There are no students in the database\"))} #Prüfen ob Daten vorhanden sind, falls nicht Warnung ausgeben\n",
    "else {return(median(data$avg))} #Median der Noten berechnen und zurrück geben \n",
    "}\n",
    "\n",
    "#7. Standartabweichung der Notenschnitte\n",
    "\n",
    "stdev_marks_all  <- function() {\n",
    "data <- dbGetQuery(con, paste(\"SELECT AVG(\\\"Note\\\"), \\\"matNr\\\" FROM \\\"Notenliste\\\" GROUP BY \\\"matNr\\\"\")) #SQL-Statement erzeugen und ausführen\n",
    "if (dim(data)[1] == 0){return( paste(\"There are no students in the database\"))} #Prüfen ob Daten vorhanden sind, falls nicht Warnung ausgeben\n",
    "else {return(sd(data$avg))} # Standartabweichung der Noten berechnen und zurrück geben\n",
    "}\n",
    "\n",
    "#8. Diagrammme :\n",
    "\n",
    "#8.1 Noten einer Prüfung\n",
    "result_of_graph <- function(exam) {\n",
    "data <- dbGetQuery(con, paste(\"SELECT \\\"Note\\\", \\\"matNr\\\" FROM \\\"Notenliste\\\" WHERE \\\"pNr\\\" =\", exam))  #SQL-Statement mit übergebenem Parameter erzeugen und ausführen\n",
    "if (dim(data)[1] == 0){return( paste(\"There are no results for exam \",exam,\". No visualization possible\"))} #Prüfen ob Daten vorhanden sind, falls nicht Warnung ausgeben\n",
    "else {ggplot(data, aes(x=Note)) + geom_histogram(color = \"black\", fill = \"blue\", bins = 13)  + labs(title=paste(\"Noten der Prüfung \", + exam)) +\n",
    "  labs(x=\"Note\", y=\"Anzahl\")}  # Histogramm zeichnen\n",
    "}\n",
    "#8.2 Notenschnitte aller Studierenden\n",
    "\n",
    "avg_marks_all_graph <- function() {\n",
    "data <- dbGetQuery(con, paste(\"SELECT AVG(\\\"Note\\\"), \\\"matNr\\\" FROM \\\"Notenliste\\\" GROUP BY \\\"matNr\\\"\"))  #SQL-Statement mit übergebenem Parameter erzeugen und ausführen\n",
    "if (dim(data)[1] == 0){return( paste(\"There are no students in the database. No visualization possible\"))} #Prüfen ob Daten vorhanden sind, falls nicht Warnung ausgeben\n",
    "else {ggplot(data, aes(x=avg)) + geom_histogram(color = \"black\", fill = \"blue\", bins = 13)  + labs(title=\"Durchschnittsnoten aller Studierender\") +\n",
    "  labs(x=\"Note\", y=\"Anzahl\")}  # Histogramm zeichnen\n",
    "}\n"
   ]
  },
  {
   "cell_type": "markdown",
   "metadata": {},
   "source": [
    "#### Funktion 1: Noten eines Studierenden"
   ]
  },
  {
   "cell_type": "code",
   "execution_count": 3,
   "metadata": {},
   "outputs": [
    {
     "data": {
      "text/html": [
       "<table>\n",
       "<thead><tr><th scope=col>Note</th><th scope=col>pNr</th></tr></thead>\n",
       "<tbody>\n",
       "\t<tr><td>2.3</td><td> 2 </td></tr>\n",
       "\t<tr><td>1.7</td><td>10 </td></tr>\n",
       "\t<tr><td>2.0</td><td> 7 </td></tr>\n",
       "\t<tr><td>5.0</td><td> 3 </td></tr>\n",
       "\t<tr><td>1.3</td><td> 4 </td></tr>\n",
       "\t<tr><td>1.7</td><td>12 </td></tr>\n",
       "\t<tr><td>3.3</td><td> 1 </td></tr>\n",
       "</tbody>\n",
       "</table>\n"
      ],
      "text/latex": [
       "\\begin{tabular}{r|ll}\n",
       " Note & pNr\\\\\n",
       "\\hline\n",
       "\t 2.3 &  2 \\\\\n",
       "\t 1.7 & 10 \\\\\n",
       "\t 2.0 &  7 \\\\\n",
       "\t 5.0 &  3 \\\\\n",
       "\t 1.3 &  4 \\\\\n",
       "\t 1.7 & 12 \\\\\n",
       "\t 3.3 &  1 \\\\\n",
       "\\end{tabular}\n"
      ],
      "text/markdown": [
       "\n",
       "Note | pNr | \n",
       "|---|---|---|---|---|---|---|\n",
       "| 2.3 |  2  | \n",
       "| 1.7 | 10  | \n",
       "| 2.0 |  7  | \n",
       "| 5.0 |  3  | \n",
       "| 1.3 |  4  | \n",
       "| 1.7 | 12  | \n",
       "| 3.3 |  1  | \n",
       "\n",
       "\n"
      ],
      "text/plain": [
       "  Note pNr\n",
       "1 2.3   2 \n",
       "2 1.7  10 \n",
       "3 2.0   7 \n",
       "4 5.0   3 \n",
       "5 1.3   4 \n",
       "6 1.7  12 \n",
       "7 3.3   1 "
      ]
     },
     "metadata": {},
     "output_type": "display_data"
    }
   ],
   "source": [
    "marks_of(5094)"
   ]
  },
  {
   "cell_type": "markdown",
   "metadata": {},
   "source": [
    "#### Funktion 2: Durchschnittsnote eines Studierenden"
   ]
  },
  {
   "cell_type": "code",
   "execution_count": 4,
   "metadata": {},
   "outputs": [
    {
     "data": {
      "text/html": [
       "2.47142857142857"
      ],
      "text/latex": [
       "2.47142857142857"
      ],
      "text/markdown": [
       "2.47142857142857"
      ],
      "text/plain": [
       "[1] 2.471429"
      ]
     },
     "metadata": {},
     "output_type": "display_data"
    }
   ],
   "source": [
    "avg_marks_of(5094)"
   ]
  },
  {
   "cell_type": "markdown",
   "metadata": {},
   "source": [
    "#### Funktion 3: Noten einer Prüfung"
   ]
  },
  {
   "cell_type": "code",
   "execution_count": 5,
   "metadata": {},
   "outputs": [
    {
     "data": {
      "text/html": [
       "<table>\n",
       "<thead><tr><th scope=col>Note</th><th scope=col>matNr</th></tr></thead>\n",
       "<tbody>\n",
       "\t<tr><td>2.3 </td><td>5047</td></tr>\n",
       "\t<tr><td>5.0 </td><td>5397</td></tr>\n",
       "\t<tr><td>5.0 </td><td>5961</td></tr>\n",
       "\t<tr><td>2.0 </td><td>5404</td></tr>\n",
       "\t<tr><td>1.0 </td><td>5266</td></tr>\n",
       "\t<tr><td>4.0 </td><td>5174</td></tr>\n",
       "\t<tr><td>2.7 </td><td>5481</td></tr>\n",
       "\t<tr><td>2.7 </td><td>5145</td></tr>\n",
       "\t<tr><td>2.3 </td><td>5302</td></tr>\n",
       "\t<tr><td>2.0 </td><td>5112</td></tr>\n",
       "\t<tr><td>3.7 </td><td>5774</td></tr>\n",
       "\t<tr><td>2.7 </td><td>5513</td></tr>\n",
       "\t<tr><td>1.0 </td><td>5324</td></tr>\n",
       "\t<tr><td>3.7 </td><td>5270</td></tr>\n",
       "\t<tr><td>3.3 </td><td>5576</td></tr>\n",
       "\t<tr><td>2.3 </td><td>5543</td></tr>\n",
       "\t<tr><td>1.3 </td><td>5043</td></tr>\n",
       "\t<tr><td>1.3 </td><td>5240</td></tr>\n",
       "\t<tr><td>3.7 </td><td>5560</td></tr>\n",
       "\t<tr><td>1.7 </td><td>5999</td></tr>\n",
       "\t<tr><td>3.0 </td><td>5917</td></tr>\n",
       "\t<tr><td>4.0 </td><td>5969</td></tr>\n",
       "\t<tr><td>5.0 </td><td>5388</td></tr>\n",
       "\t<tr><td>4.0 </td><td>5878</td></tr>\n",
       "\t<tr><td>1.3 </td><td>5601</td></tr>\n",
       "\t<tr><td>5.0 </td><td>5427</td></tr>\n",
       "\t<tr><td>1.7 </td><td>5393</td></tr>\n",
       "\t<tr><td>3.0 </td><td>5528</td></tr>\n",
       "\t<tr><td>4.0 </td><td>5464</td></tr>\n",
       "\t<tr><td>2.0 </td><td>5252</td></tr>\n",
       "\t<tr><td>⋮</td><td>⋮</td></tr>\n",
       "\t<tr><td>1.3 </td><td>5034</td></tr>\n",
       "\t<tr><td>5.0 </td><td>5600</td></tr>\n",
       "\t<tr><td>2.7 </td><td>5486</td></tr>\n",
       "\t<tr><td>4.0 </td><td>5562</td></tr>\n",
       "\t<tr><td>3.0 </td><td>5991</td></tr>\n",
       "\t<tr><td>4.0 </td><td>5163</td></tr>\n",
       "\t<tr><td>2.0 </td><td>5180</td></tr>\n",
       "\t<tr><td>1.7 </td><td>5477</td></tr>\n",
       "\t<tr><td>3.3 </td><td>5496</td></tr>\n",
       "\t<tr><td>1.7 </td><td>5900</td></tr>\n",
       "\t<tr><td>3.7 </td><td>5311</td></tr>\n",
       "\t<tr><td>3.7 </td><td>5795</td></tr>\n",
       "\t<tr><td>1.7 </td><td>5299</td></tr>\n",
       "\t<tr><td>2.3 </td><td>5719</td></tr>\n",
       "\t<tr><td>4.0 </td><td>5438</td></tr>\n",
       "\t<tr><td>5.0 </td><td>5418</td></tr>\n",
       "\t<tr><td>3.0 </td><td>5459</td></tr>\n",
       "\t<tr><td>1.7 </td><td>5735</td></tr>\n",
       "\t<tr><td>2.0 </td><td>5976</td></tr>\n",
       "\t<tr><td>2.7 </td><td>5753</td></tr>\n",
       "\t<tr><td>1.0 </td><td>5075</td></tr>\n",
       "\t<tr><td>2.3 </td><td>5237</td></tr>\n",
       "\t<tr><td>2.0 </td><td>5893</td></tr>\n",
       "\t<tr><td>3.7 </td><td>5636</td></tr>\n",
       "\t<tr><td>4.0 </td><td>5265</td></tr>\n",
       "\t<tr><td>5.0 </td><td>5613</td></tr>\n",
       "\t<tr><td>3.0 </td><td>5413</td></tr>\n",
       "\t<tr><td>1.3 </td><td>5168</td></tr>\n",
       "\t<tr><td>3.3 </td><td>5581</td></tr>\n",
       "\t<tr><td>2.0 </td><td>5858</td></tr>\n",
       "</tbody>\n",
       "</table>\n"
      ],
      "text/latex": [
       "\\begin{tabular}{r|ll}\n",
       " Note & matNr\\\\\n",
       "\\hline\n",
       "\t 2.3  & 5047\\\\\n",
       "\t 5.0  & 5397\\\\\n",
       "\t 5.0  & 5961\\\\\n",
       "\t 2.0  & 5404\\\\\n",
       "\t 1.0  & 5266\\\\\n",
       "\t 4.0  & 5174\\\\\n",
       "\t 2.7  & 5481\\\\\n",
       "\t 2.7  & 5145\\\\\n",
       "\t 2.3  & 5302\\\\\n",
       "\t 2.0  & 5112\\\\\n",
       "\t 3.7  & 5774\\\\\n",
       "\t 2.7  & 5513\\\\\n",
       "\t 1.0  & 5324\\\\\n",
       "\t 3.7  & 5270\\\\\n",
       "\t 3.3  & 5576\\\\\n",
       "\t 2.3  & 5543\\\\\n",
       "\t 1.3  & 5043\\\\\n",
       "\t 1.3  & 5240\\\\\n",
       "\t 3.7  & 5560\\\\\n",
       "\t 1.7  & 5999\\\\\n",
       "\t 3.0  & 5917\\\\\n",
       "\t 4.0  & 5969\\\\\n",
       "\t 5.0  & 5388\\\\\n",
       "\t 4.0  & 5878\\\\\n",
       "\t 1.3  & 5601\\\\\n",
       "\t 5.0  & 5427\\\\\n",
       "\t 1.7  & 5393\\\\\n",
       "\t 3.0  & 5528\\\\\n",
       "\t 4.0  & 5464\\\\\n",
       "\t 2.0  & 5252\\\\\n",
       "\t ⋮ & ⋮\\\\\n",
       "\t 1.3  & 5034\\\\\n",
       "\t 5.0  & 5600\\\\\n",
       "\t 2.7  & 5486\\\\\n",
       "\t 4.0  & 5562\\\\\n",
       "\t 3.0  & 5991\\\\\n",
       "\t 4.0  & 5163\\\\\n",
       "\t 2.0  & 5180\\\\\n",
       "\t 1.7  & 5477\\\\\n",
       "\t 3.3  & 5496\\\\\n",
       "\t 1.7  & 5900\\\\\n",
       "\t 3.7  & 5311\\\\\n",
       "\t 3.7  & 5795\\\\\n",
       "\t 1.7  & 5299\\\\\n",
       "\t 2.3  & 5719\\\\\n",
       "\t 4.0  & 5438\\\\\n",
       "\t 5.0  & 5418\\\\\n",
       "\t 3.0  & 5459\\\\\n",
       "\t 1.7  & 5735\\\\\n",
       "\t 2.0  & 5976\\\\\n",
       "\t 2.7  & 5753\\\\\n",
       "\t 1.0  & 5075\\\\\n",
       "\t 2.3  & 5237\\\\\n",
       "\t 2.0  & 5893\\\\\n",
       "\t 3.7  & 5636\\\\\n",
       "\t 4.0  & 5265\\\\\n",
       "\t 5.0  & 5613\\\\\n",
       "\t 3.0  & 5413\\\\\n",
       "\t 1.3  & 5168\\\\\n",
       "\t 3.3  & 5581\\\\\n",
       "\t 2.0  & 5858\\\\\n",
       "\\end{tabular}\n"
      ],
      "text/markdown": [
       "\n",
       "Note | matNr | \n",
       "|---|---|---|---|---|---|---|---|---|---|---|---|---|---|---|---|---|---|---|---|---|---|---|---|---|---|---|---|---|---|---|---|---|---|---|---|---|---|---|---|---|---|---|---|---|---|---|---|---|---|---|---|---|---|---|---|---|---|---|---|---|\n",
       "| 2.3  | 5047 | \n",
       "| 5.0  | 5397 | \n",
       "| 5.0  | 5961 | \n",
       "| 2.0  | 5404 | \n",
       "| 1.0  | 5266 | \n",
       "| 4.0  | 5174 | \n",
       "| 2.7  | 5481 | \n",
       "| 2.7  | 5145 | \n",
       "| 2.3  | 5302 | \n",
       "| 2.0  | 5112 | \n",
       "| 3.7  | 5774 | \n",
       "| 2.7  | 5513 | \n",
       "| 1.0  | 5324 | \n",
       "| 3.7  | 5270 | \n",
       "| 3.3  | 5576 | \n",
       "| 2.3  | 5543 | \n",
       "| 1.3  | 5043 | \n",
       "| 1.3  | 5240 | \n",
       "| 3.7  | 5560 | \n",
       "| 1.7  | 5999 | \n",
       "| 3.0  | 5917 | \n",
       "| 4.0  | 5969 | \n",
       "| 5.0  | 5388 | \n",
       "| 4.0  | 5878 | \n",
       "| 1.3  | 5601 | \n",
       "| 5.0  | 5427 | \n",
       "| 1.7  | 5393 | \n",
       "| 3.0  | 5528 | \n",
       "| 4.0  | 5464 | \n",
       "| 2.0  | 5252 | \n",
       "| ⋮ | ⋮ | \n",
       "| 1.3  | 5034 | \n",
       "| 5.0  | 5600 | \n",
       "| 2.7  | 5486 | \n",
       "| 4.0  | 5562 | \n",
       "| 3.0  | 5991 | \n",
       "| 4.0  | 5163 | \n",
       "| 2.0  | 5180 | \n",
       "| 1.7  | 5477 | \n",
       "| 3.3  | 5496 | \n",
       "| 1.7  | 5900 | \n",
       "| 3.7  | 5311 | \n",
       "| 3.7  | 5795 | \n",
       "| 1.7  | 5299 | \n",
       "| 2.3  | 5719 | \n",
       "| 4.0  | 5438 | \n",
       "| 5.0  | 5418 | \n",
       "| 3.0  | 5459 | \n",
       "| 1.7  | 5735 | \n",
       "| 2.0  | 5976 | \n",
       "| 2.7  | 5753 | \n",
       "| 1.0  | 5075 | \n",
       "| 2.3  | 5237 | \n",
       "| 2.0  | 5893 | \n",
       "| 3.7  | 5636 | \n",
       "| 4.0  | 5265 | \n",
       "| 5.0  | 5613 | \n",
       "| 3.0  | 5413 | \n",
       "| 1.3  | 5168 | \n",
       "| 3.3  | 5581 | \n",
       "| 2.0  | 5858 | \n",
       "\n",
       "\n"
      ],
      "text/plain": [
       "    Note matNr\n",
       "1   2.3  5047 \n",
       "2   5.0  5397 \n",
       "3   5.0  5961 \n",
       "4   2.0  5404 \n",
       "5   1.0  5266 \n",
       "6   4.0  5174 \n",
       "7   2.7  5481 \n",
       "8   2.7  5145 \n",
       "9   2.3  5302 \n",
       "10  2.0  5112 \n",
       "11  3.7  5774 \n",
       "12  2.7  5513 \n",
       "13  1.0  5324 \n",
       "14  3.7  5270 \n",
       "15  3.3  5576 \n",
       "16  2.3  5543 \n",
       "17  1.3  5043 \n",
       "18  1.3  5240 \n",
       "19  3.7  5560 \n",
       "20  1.7  5999 \n",
       "21  3.0  5917 \n",
       "22  4.0  5969 \n",
       "23  5.0  5388 \n",
       "24  4.0  5878 \n",
       "25  1.3  5601 \n",
       "26  5.0  5427 \n",
       "27  1.7  5393 \n",
       "28  3.0  5528 \n",
       "29  4.0  5464 \n",
       "30  2.0  5252 \n",
       "⋮   ⋮    ⋮    \n",
       "164 1.3  5034 \n",
       "165 5.0  5600 \n",
       "166 2.7  5486 \n",
       "167 4.0  5562 \n",
       "168 3.0  5991 \n",
       "169 4.0  5163 \n",
       "170 2.0  5180 \n",
       "171 1.7  5477 \n",
       "172 3.3  5496 \n",
       "173 1.7  5900 \n",
       "174 3.7  5311 \n",
       "175 3.7  5795 \n",
       "176 1.7  5299 \n",
       "177 2.3  5719 \n",
       "178 4.0  5438 \n",
       "179 5.0  5418 \n",
       "180 3.0  5459 \n",
       "181 1.7  5735 \n",
       "182 2.0  5976 \n",
       "183 2.7  5753 \n",
       "184 1.0  5075 \n",
       "185 2.3  5237 \n",
       "186 2.0  5893 \n",
       "187 3.7  5636 \n",
       "188 4.0  5265 \n",
       "189 5.0  5613 \n",
       "190 3.0  5413 \n",
       "191 1.3  5168 \n",
       "192 3.3  5581 \n",
       "193 2.0  5858 "
      ]
     },
     "metadata": {},
     "output_type": "display_data"
    }
   ],
   "source": [
    "result_of(7)"
   ]
  },
  {
   "cell_type": "markdown",
   "metadata": {},
   "source": [
    "#### Funktion 4: Durchschnittsnote einer Prüfung"
   ]
  },
  {
   "cell_type": "code",
   "execution_count": 6,
   "metadata": {},
   "outputs": [
    {
     "data": {
      "text/html": [
       "2.75751295336788"
      ],
      "text/latex": [
       "2.75751295336788"
      ],
      "text/markdown": [
       "2.75751295336788"
      ],
      "text/plain": [
       "[1] 2.757513"
      ]
     },
     "metadata": {},
     "output_type": "display_data"
    }
   ],
   "source": [
    "avg_result_of(7)"
   ]
  },
  {
   "cell_type": "markdown",
   "metadata": {},
   "source": [
    "#### Funktion 5: Durschnittsnote aller Studierenden"
   ]
  },
  {
   "cell_type": "code",
   "execution_count": 7,
   "metadata": {},
   "outputs": [
    {
     "data": {
      "text/html": [
       "<table>\n",
       "<thead><tr><th scope=col>avg</th><th scope=col>matNr</th></tr></thead>\n",
       "<tbody>\n",
       "\t<tr><td>2.825000</td><td>5955    </td></tr>\n",
       "\t<tr><td>1.850000</td><td>5629    </td></tr>\n",
       "\t<tr><td>4.150000</td><td>5817    </td></tr>\n",
       "\t<tr><td>2.500000</td><td>5721    </td></tr>\n",
       "\t<tr><td>2.700000</td><td>5264    </td></tr>\n",
       "\t<tr><td>3.650000</td><td>5594    </td></tr>\n",
       "\t<tr><td>3.080000</td><td>5706    </td></tr>\n",
       "\t<tr><td>3.300000</td><td>5830    </td></tr>\n",
       "\t<tr><td>1.650000</td><td>5831    </td></tr>\n",
       "\t<tr><td>3.300000</td><td>5944    </td></tr>\n",
       "\t<tr><td>3.000000</td><td>5512    </td></tr>\n",
       "\t<tr><td>1.300000</td><td>5471    </td></tr>\n",
       "\t<tr><td>3.300000</td><td>5176    </td></tr>\n",
       "\t<tr><td>3.650000</td><td>5878    </td></tr>\n",
       "\t<tr><td>3.200000</td><td>5805    </td></tr>\n",
       "\t<tr><td>2.340000</td><td>5191    </td></tr>\n",
       "\t<tr><td>2.666667</td><td>5911    </td></tr>\n",
       "\t<tr><td>1.300000</td><td>5518    </td></tr>\n",
       "\t<tr><td>4.000000</td><td>5455    </td></tr>\n",
       "\t<tr><td>2.233333</td><td>5258    </td></tr>\n",
       "\t<tr><td>2.666667</td><td>5158    </td></tr>\n",
       "\t<tr><td>2.675000</td><td>5024    </td></tr>\n",
       "\t<tr><td>2.850000</td><td>5807    </td></tr>\n",
       "\t<tr><td>1.000000</td><td>5793    </td></tr>\n",
       "\t<tr><td>2.500000</td><td>5497    </td></tr>\n",
       "\t<tr><td>1.300000</td><td>5571    </td></tr>\n",
       "\t<tr><td>3.700000</td><td>5541    </td></tr>\n",
       "\t<tr><td>2.400000</td><td>5041    </td></tr>\n",
       "\t<tr><td>2.700000</td><td>5940    </td></tr>\n",
       "\t<tr><td>2.650000</td><td>5505    </td></tr>\n",
       "\t<tr><td>⋮</td><td>⋮</td></tr>\n",
       "\t<tr><td>3.666667</td><td>5390    </td></tr>\n",
       "\t<tr><td>5.000000</td><td>5899    </td></tr>\n",
       "\t<tr><td>3.500000</td><td>5973    </td></tr>\n",
       "\t<tr><td>3.000000</td><td>5213    </td></tr>\n",
       "\t<tr><td>2.483333</td><td>5714    </td></tr>\n",
       "\t<tr><td>5.000000</td><td>5402    </td></tr>\n",
       "\t<tr><td>1.700000</td><td>5717    </td></tr>\n",
       "\t<tr><td>3.150000</td><td>5942    </td></tr>\n",
       "\t<tr><td>2.000000</td><td>5596    </td></tr>\n",
       "\t<tr><td>1.766667</td><td>5314    </td></tr>\n",
       "\t<tr><td>3.700000</td><td>5844    </td></tr>\n",
       "\t<tr><td>2.250000</td><td>5239    </td></tr>\n",
       "\t<tr><td>5.000000</td><td>5454    </td></tr>\n",
       "\t<tr><td>3.150000</td><td>5074    </td></tr>\n",
       "\t<tr><td>2.533333</td><td>5489    </td></tr>\n",
       "\t<tr><td>3.133333</td><td>5500    </td></tr>\n",
       "\t<tr><td>4.120000</td><td>5519    </td></tr>\n",
       "\t<tr><td>2.300000</td><td>5234    </td></tr>\n",
       "\t<tr><td>2.400000</td><td>5059    </td></tr>\n",
       "\t<tr><td>2.533333</td><td>5710    </td></tr>\n",
       "\t<tr><td>3.700000</td><td>5281    </td></tr>\n",
       "\t<tr><td>3.150000</td><td>5360    </td></tr>\n",
       "\t<tr><td>2.425000</td><td>5026    </td></tr>\n",
       "\t<tr><td>4.000000</td><td>5051    </td></tr>\n",
       "\t<tr><td>1.150000</td><td>5342    </td></tr>\n",
       "\t<tr><td>3.800000</td><td>5122    </td></tr>\n",
       "\t<tr><td>2.200000</td><td>5990    </td></tr>\n",
       "\t<tr><td>5.000000</td><td>5637    </td></tr>\n",
       "\t<tr><td>2.333333</td><td>5313    </td></tr>\n",
       "\t<tr><td>3.000000</td><td>5155    </td></tr>\n",
       "</tbody>\n",
       "</table>\n"
      ],
      "text/latex": [
       "\\begin{tabular}{r|ll}\n",
       " avg & matNr\\\\\n",
       "\\hline\n",
       "\t 2.825000 & 5955    \\\\\n",
       "\t 1.850000 & 5629    \\\\\n",
       "\t 4.150000 & 5817    \\\\\n",
       "\t 2.500000 & 5721    \\\\\n",
       "\t 2.700000 & 5264    \\\\\n",
       "\t 3.650000 & 5594    \\\\\n",
       "\t 3.080000 & 5706    \\\\\n",
       "\t 3.300000 & 5830    \\\\\n",
       "\t 1.650000 & 5831    \\\\\n",
       "\t 3.300000 & 5944    \\\\\n",
       "\t 3.000000 & 5512    \\\\\n",
       "\t 1.300000 & 5471    \\\\\n",
       "\t 3.300000 & 5176    \\\\\n",
       "\t 3.650000 & 5878    \\\\\n",
       "\t 3.200000 & 5805    \\\\\n",
       "\t 2.340000 & 5191    \\\\\n",
       "\t 2.666667 & 5911    \\\\\n",
       "\t 1.300000 & 5518    \\\\\n",
       "\t 4.000000 & 5455    \\\\\n",
       "\t 2.233333 & 5258    \\\\\n",
       "\t 2.666667 & 5158    \\\\\n",
       "\t 2.675000 & 5024    \\\\\n",
       "\t 2.850000 & 5807    \\\\\n",
       "\t 1.000000 & 5793    \\\\\n",
       "\t 2.500000 & 5497    \\\\\n",
       "\t 1.300000 & 5571    \\\\\n",
       "\t 3.700000 & 5541    \\\\\n",
       "\t 2.400000 & 5041    \\\\\n",
       "\t 2.700000 & 5940    \\\\\n",
       "\t 2.650000 & 5505    \\\\\n",
       "\t ⋮ & ⋮\\\\\n",
       "\t 3.666667 & 5390    \\\\\n",
       "\t 5.000000 & 5899    \\\\\n",
       "\t 3.500000 & 5973    \\\\\n",
       "\t 3.000000 & 5213    \\\\\n",
       "\t 2.483333 & 5714    \\\\\n",
       "\t 5.000000 & 5402    \\\\\n",
       "\t 1.700000 & 5717    \\\\\n",
       "\t 3.150000 & 5942    \\\\\n",
       "\t 2.000000 & 5596    \\\\\n",
       "\t 1.766667 & 5314    \\\\\n",
       "\t 3.700000 & 5844    \\\\\n",
       "\t 2.250000 & 5239    \\\\\n",
       "\t 5.000000 & 5454    \\\\\n",
       "\t 3.150000 & 5074    \\\\\n",
       "\t 2.533333 & 5489    \\\\\n",
       "\t 3.133333 & 5500    \\\\\n",
       "\t 4.120000 & 5519    \\\\\n",
       "\t 2.300000 & 5234    \\\\\n",
       "\t 2.400000 & 5059    \\\\\n",
       "\t 2.533333 & 5710    \\\\\n",
       "\t 3.700000 & 5281    \\\\\n",
       "\t 3.150000 & 5360    \\\\\n",
       "\t 2.425000 & 5026    \\\\\n",
       "\t 4.000000 & 5051    \\\\\n",
       "\t 1.150000 & 5342    \\\\\n",
       "\t 3.800000 & 5122    \\\\\n",
       "\t 2.200000 & 5990    \\\\\n",
       "\t 5.000000 & 5637    \\\\\n",
       "\t 2.333333 & 5313    \\\\\n",
       "\t 3.000000 & 5155    \\\\\n",
       "\\end{tabular}\n"
      ],
      "text/markdown": [
       "\n",
       "avg | matNr | \n",
       "|---|---|---|---|---|---|---|---|---|---|---|---|---|---|---|---|---|---|---|---|---|---|---|---|---|---|---|---|---|---|---|---|---|---|---|---|---|---|---|---|---|---|---|---|---|---|---|---|---|---|---|---|---|---|---|---|---|---|---|---|---|\n",
       "| 2.825000 | 5955     | \n",
       "| 1.850000 | 5629     | \n",
       "| 4.150000 | 5817     | \n",
       "| 2.500000 | 5721     | \n",
       "| 2.700000 | 5264     | \n",
       "| 3.650000 | 5594     | \n",
       "| 3.080000 | 5706     | \n",
       "| 3.300000 | 5830     | \n",
       "| 1.650000 | 5831     | \n",
       "| 3.300000 | 5944     | \n",
       "| 3.000000 | 5512     | \n",
       "| 1.300000 | 5471     | \n",
       "| 3.300000 | 5176     | \n",
       "| 3.650000 | 5878     | \n",
       "| 3.200000 | 5805     | \n",
       "| 2.340000 | 5191     | \n",
       "| 2.666667 | 5911     | \n",
       "| 1.300000 | 5518     | \n",
       "| 4.000000 | 5455     | \n",
       "| 2.233333 | 5258     | \n",
       "| 2.666667 | 5158     | \n",
       "| 2.675000 | 5024     | \n",
       "| 2.850000 | 5807     | \n",
       "| 1.000000 | 5793     | \n",
       "| 2.500000 | 5497     | \n",
       "| 1.300000 | 5571     | \n",
       "| 3.700000 | 5541     | \n",
       "| 2.400000 | 5041     | \n",
       "| 2.700000 | 5940     | \n",
       "| 2.650000 | 5505     | \n",
       "| ⋮ | ⋮ | \n",
       "| 3.666667 | 5390     | \n",
       "| 5.000000 | 5899     | \n",
       "| 3.500000 | 5973     | \n",
       "| 3.000000 | 5213     | \n",
       "| 2.483333 | 5714     | \n",
       "| 5.000000 | 5402     | \n",
       "| 1.700000 | 5717     | \n",
       "| 3.150000 | 5942     | \n",
       "| 2.000000 | 5596     | \n",
       "| 1.766667 | 5314     | \n",
       "| 3.700000 | 5844     | \n",
       "| 2.250000 | 5239     | \n",
       "| 5.000000 | 5454     | \n",
       "| 3.150000 | 5074     | \n",
       "| 2.533333 | 5489     | \n",
       "| 3.133333 | 5500     | \n",
       "| 4.120000 | 5519     | \n",
       "| 2.300000 | 5234     | \n",
       "| 2.400000 | 5059     | \n",
       "| 2.533333 | 5710     | \n",
       "| 3.700000 | 5281     | \n",
       "| 3.150000 | 5360     | \n",
       "| 2.425000 | 5026     | \n",
       "| 4.000000 | 5051     | \n",
       "| 1.150000 | 5342     | \n",
       "| 3.800000 | 5122     | \n",
       "| 2.200000 | 5990     | \n",
       "| 5.000000 | 5637     | \n",
       "| 2.333333 | 5313     | \n",
       "| 3.000000 | 5155     | \n",
       "\n",
       "\n"
      ],
      "text/plain": [
       "    avg      matNr\n",
       "1   2.825000 5955 \n",
       "2   1.850000 5629 \n",
       "3   4.150000 5817 \n",
       "4   2.500000 5721 \n",
       "5   2.700000 5264 \n",
       "6   3.650000 5594 \n",
       "7   3.080000 5706 \n",
       "8   3.300000 5830 \n",
       "9   1.650000 5831 \n",
       "10  3.300000 5944 \n",
       "11  3.000000 5512 \n",
       "12  1.300000 5471 \n",
       "13  3.300000 5176 \n",
       "14  3.650000 5878 \n",
       "15  3.200000 5805 \n",
       "16  2.340000 5191 \n",
       "17  2.666667 5911 \n",
       "18  1.300000 5518 \n",
       "19  4.000000 5455 \n",
       "20  2.233333 5258 \n",
       "21  2.666667 5158 \n",
       "22  2.675000 5024 \n",
       "23  2.850000 5807 \n",
       "24  1.000000 5793 \n",
       "25  2.500000 5497 \n",
       "26  1.300000 5571 \n",
       "27  3.700000 5541 \n",
       "28  2.400000 5041 \n",
       "29  2.700000 5940 \n",
       "30  2.650000 5505 \n",
       "⋮   ⋮        ⋮    \n",
       "847 3.666667 5390 \n",
       "848 5.000000 5899 \n",
       "849 3.500000 5973 \n",
       "850 3.000000 5213 \n",
       "851 2.483333 5714 \n",
       "852 5.000000 5402 \n",
       "853 1.700000 5717 \n",
       "854 3.150000 5942 \n",
       "855 2.000000 5596 \n",
       "856 1.766667 5314 \n",
       "857 3.700000 5844 \n",
       "858 2.250000 5239 \n",
       "859 5.000000 5454 \n",
       "860 3.150000 5074 \n",
       "861 2.533333 5489 \n",
       "862 3.133333 5500 \n",
       "863 4.120000 5519 \n",
       "864 2.300000 5234 \n",
       "865 2.400000 5059 \n",
       "866 2.533333 5710 \n",
       "867 3.700000 5281 \n",
       "868 3.150000 5360 \n",
       "869 2.425000 5026 \n",
       "870 4.000000 5051 \n",
       "871 1.150000 5342 \n",
       "872 3.800000 5122 \n",
       "873 2.200000 5990 \n",
       "874 5.000000 5637 \n",
       "875 2.333333 5313 \n",
       "876 3.000000 5155 "
      ]
     },
     "metadata": {},
     "output_type": "display_data"
    }
   ],
   "source": [
    "avg_marks_all()"
   ]
  },
  {
   "cell_type": "markdown",
   "metadata": {},
   "source": [
    "#### Funktion 6: Median der Notenschnitte"
   ]
  },
  {
   "cell_type": "code",
   "execution_count": 8,
   "metadata": {},
   "outputs": [
    {
     "data": {
      "text/html": [
       "2.66666666666667"
      ],
      "text/latex": [
       "2.66666666666667"
      ],
      "text/markdown": [
       "2.66666666666667"
      ],
      "text/plain": [
       "[1] 2.666667"
      ]
     },
     "metadata": {},
     "output_type": "display_data"
    }
   ],
   "source": [
    "med_marks_all()"
   ]
  },
  {
   "cell_type": "markdown",
   "metadata": {},
   "source": [
    "#### Funktion 7: Standartabweichung der Notenschnitte"
   ]
  },
  {
   "cell_type": "code",
   "execution_count": 9,
   "metadata": {},
   "outputs": [
    {
     "data": {
      "text/html": [
       "0.871557357185793"
      ],
      "text/latex": [
       "0.871557357185793"
      ],
      "text/markdown": [
       "0.871557357185793"
      ],
      "text/plain": [
       "[1] 0.8715574"
      ]
     },
     "metadata": {},
     "output_type": "display_data"
    }
   ],
   "source": [
    "stdev_marks_all()"
   ]
  },
  {
   "cell_type": "markdown",
   "metadata": {},
   "source": [
    "#### Funktion 8: Visualisierung der Noten erner Prüfung"
   ]
  },
  {
   "cell_type": "code",
   "execution_count": 10,
   "metadata": {},
   "outputs": [
    {
     "data": {},
     "metadata": {},
     "output_type": "display_data"
    },
    {
     "data": {
      "image/png": "[encoded data removed]",
      "text/plain": [
       "plot without title"
      ]
     },
     "metadata": {},
     "output_type": "display_data"
    }
   ],
   "source": [
    "result_of_graph(7)"
   ]
  },
  {
   "cell_type": "markdown",
   "metadata": {},
   "source": [
    "#### 8.2 Visuslisierung der Notenschnitte aller Studierenden"
   ]
  },
  {
   "cell_type": "code",
   "execution_count": 11,
   "metadata": {},
   "outputs": [
    {
     "data": {},
     "metadata": {},
     "output_type": "display_data"
    },
    {
     "data": {
      "image/png": "[encoded data removed]",
      "text/plain": [
       "plot without title"
      ]
     },
     "metadata": {},
     "output_type": "display_data"
    }
   ],
   "source": [
    "avg_marks_all_graph()"
   ]
  },
  {
   "cell_type": "code",
   "execution_count": null,
   "metadata": {},
   "outputs": [],
   "source": []
  }
 ],
 "metadata": {
  "kernelspec": {
   "display_name": "R",
   "language": "R",
   "name": "ir"
  },
  "language_info": {
   "codemirror_mode": "r",
   "file_extension": ".r",
   "mimetype": "text/x-r-source",
   "name": "R",
   "pygments_lexer": "r",
   "version": "3.5.1"
  }
 },
 "nbformat": 4,
 "nbformat_minor": 2
}
